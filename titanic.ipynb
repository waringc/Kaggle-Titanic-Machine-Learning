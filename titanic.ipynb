{
 "cells": [
  {
   "cell_type": "markdown",
   "metadata": {
    "collapsed": true
   },
   "source": [
    "# Kaggle- Titanic Machine Learning from Disaster\n",
    "\n",
    "This is the kaggle machine learning tutorial using data from the Titanic disaster.  From the competition website http://www.kaggle.com/c/titanic-gettingStarted: \n",
    "\n",
    ">The sinking of the RMS Titanic is one of the most infamous shipwrecks in history.  On April 15, 1912, during her maiden voyage, the Titanic sank after colliding with an iceberg, killing 1502 out of 2224 passengers and crew. This sensational tragedy shocked the international community and led to better safety regulations for ships.\n",
    "\n",
    ">One of the reasons that the shipwreck led to such loss of life was that there were not enough lifeboats for the passengers and crew. Although there was some element of luck involved in surviving the sinking, some groups of people were more likely to survive than others, such as women, children, and the upper-class.\n",
    "\n",
    ">In this challenge, we ask you to complete the analysis of what sorts of people were likely to survive. In particular, we ask you to apply the tools of machine learning to predict which passengers survived the tragedy.\n",
    "\n",
    "Much of the code from this project is modified from the provided Kaggle benchmark myfirstforest.py script found at: https://www.kaggle.com/c/titanic/data. "
   ]
  },
  {
   "cell_type": "code",
   "execution_count": 66,
   "metadata": {
    "collapsed": true
   },
   "outputs": [],
   "source": [
    "import pandas as pd \n",
    "import numpy as np\n",
    "import csv as csv \n",
    "from sklearn.ensemble import RandomForestClassifier\n",
    "# Eliminate false positive SettingWithCopyWarning\n",
    "pd.options.mode.chained_assignment = None\n"
   ]
  },
  {
   "cell_type": "markdown",
   "metadata": {},
   "source": [
    "# Data loading and cleaning:\n",
    "\n",
    "Load data into Pandas from csv files:"
   ]
  },
  {
   "cell_type": "code",
   "execution_count": 69,
   "metadata": {
    "collapsed": false
   },
   "outputs": [],
   "source": [
    "train_df = pd.read_csv(\"data/train.csv\", header = 0) #training data\n",
    "test_df = pd.read_csv(\"data/test.csv\", header = 0) #test data\n",
    "test_ids=test_df['PassengerId'].values #store Ids from test data for later"
   ]
  },
  {
   "cell_type": "markdown",
   "metadata": {},
   "source": [
    "Take a look at the contents of the training data:"
   ]
  },
  {
   "cell_type": "code",
   "execution_count": 70,
   "metadata": {
    "collapsed": false,
    "scrolled": true
   },
   "outputs": [
    {
     "data": {
      "text/html": [
       "<div>\n",
       "<table border=\"1\" class=\"dataframe\">\n",
       "  <thead>\n",
       "    <tr style=\"text-align: right;\">\n",
       "      <th></th>\n",
       "      <th>PassengerId</th>\n",
       "      <th>Survived</th>\n",
       "      <th>Pclass</th>\n",
       "      <th>Name</th>\n",
       "      <th>Sex</th>\n",
       "      <th>Age</th>\n",
       "      <th>SibSp</th>\n",
       "      <th>Parch</th>\n",
       "      <th>Ticket</th>\n",
       "      <th>Fare</th>\n",
       "      <th>Cabin</th>\n",
       "      <th>Embarked</th>\n",
       "    </tr>\n",
       "  </thead>\n",
       "  <tbody>\n",
       "    <tr>\n",
       "      <th>0</th>\n",
       "      <td>1</td>\n",
       "      <td>0</td>\n",
       "      <td>3</td>\n",
       "      <td>Braund, Mr. Owen Harris</td>\n",
       "      <td>male</td>\n",
       "      <td>22.0</td>\n",
       "      <td>1</td>\n",
       "      <td>0</td>\n",
       "      <td>A/5 21171</td>\n",
       "      <td>7.2500</td>\n",
       "      <td>NaN</td>\n",
       "      <td>S</td>\n",
       "    </tr>\n",
       "    <tr>\n",
       "      <th>1</th>\n",
       "      <td>2</td>\n",
       "      <td>1</td>\n",
       "      <td>1</td>\n",
       "      <td>Cumings, Mrs. John Bradley (Florence Briggs Th...</td>\n",
       "      <td>female</td>\n",
       "      <td>38.0</td>\n",
       "      <td>1</td>\n",
       "      <td>0</td>\n",
       "      <td>PC 17599</td>\n",
       "      <td>71.2833</td>\n",
       "      <td>C85</td>\n",
       "      <td>C</td>\n",
       "    </tr>\n",
       "    <tr>\n",
       "      <th>2</th>\n",
       "      <td>3</td>\n",
       "      <td>1</td>\n",
       "      <td>3</td>\n",
       "      <td>Heikkinen, Miss. Laina</td>\n",
       "      <td>female</td>\n",
       "      <td>26.0</td>\n",
       "      <td>0</td>\n",
       "      <td>0</td>\n",
       "      <td>STON/O2. 3101282</td>\n",
       "      <td>7.9250</td>\n",
       "      <td>NaN</td>\n",
       "      <td>S</td>\n",
       "    </tr>\n",
       "    <tr>\n",
       "      <th>3</th>\n",
       "      <td>4</td>\n",
       "      <td>1</td>\n",
       "      <td>1</td>\n",
       "      <td>Futrelle, Mrs. Jacques Heath (Lily May Peel)</td>\n",
       "      <td>female</td>\n",
       "      <td>35.0</td>\n",
       "      <td>1</td>\n",
       "      <td>0</td>\n",
       "      <td>113803</td>\n",
       "      <td>53.1000</td>\n",
       "      <td>C123</td>\n",
       "      <td>S</td>\n",
       "    </tr>\n",
       "    <tr>\n",
       "      <th>4</th>\n",
       "      <td>5</td>\n",
       "      <td>0</td>\n",
       "      <td>3</td>\n",
       "      <td>Allen, Mr. William Henry</td>\n",
       "      <td>male</td>\n",
       "      <td>35.0</td>\n",
       "      <td>0</td>\n",
       "      <td>0</td>\n",
       "      <td>373450</td>\n",
       "      <td>8.0500</td>\n",
       "      <td>NaN</td>\n",
       "      <td>S</td>\n",
       "    </tr>\n",
       "  </tbody>\n",
       "</table>\n",
       "</div>"
      ],
      "text/plain": [
       "   PassengerId  Survived  Pclass  \\\n",
       "0            1         0       3   \n",
       "1            2         1       1   \n",
       "2            3         1       3   \n",
       "3            4         1       1   \n",
       "4            5         0       3   \n",
       "\n",
       "                                                Name     Sex   Age  SibSp  \\\n",
       "0                            Braund, Mr. Owen Harris    male  22.0      1   \n",
       "1  Cumings, Mrs. John Bradley (Florence Briggs Th...  female  38.0      1   \n",
       "2                             Heikkinen, Miss. Laina  female  26.0      0   \n",
       "3       Futrelle, Mrs. Jacques Heath (Lily May Peel)  female  35.0      1   \n",
       "4                           Allen, Mr. William Henry    male  35.0      0   \n",
       "\n",
       "   Parch            Ticket     Fare Cabin Embarked  \n",
       "0      0         A/5 21171   7.2500   NaN        S  \n",
       "1      0          PC 17599  71.2833   C85        C  \n",
       "2      0  STON/O2. 3101282   7.9250   NaN        S  \n",
       "3      0            113803  53.1000  C123        S  \n",
       "4      0            373450   8.0500   NaN        S  "
      ]
     },
     "execution_count": 70,
     "metadata": {},
     "output_type": "execute_result"
    }
   ],
   "source": [
    "train_df.head() #training data"
   ]
  },
  {
   "cell_type": "markdown",
   "metadata": {
    "collapsed": true
   },
   "source": [
    "Per Kaggle (https://www.kaggle.com/c/titanic/data) the meaning of the variables is:\n",
    "\n",
    ">VARIABLE DESCRIPTIONS:\n",
    ">survival        Survival\n",
    ">                (0 = No; 1 = Yes)\n",
    ">pclass          Passenger Class\n",
    ">                (1 = 1st; 2 = 2nd; 3 = 3rd)\n",
    ">name            Name\n",
    ">sex             Sex\n",
    ">age             Age\n",
    ">sibsp           Number of Siblings/Spouses Aboard\n",
    ">parch           Number of Parents/Children Aboard\n",
    ">ticket          Ticket Number\n",
    ">fare            Passenger Fare\n",
    ">cabin           Cabin\n",
    ">embarked        Port of Embarkation\n",
    ">                (C = Cherbourg; Q = Queenstown; S = Southampton)\n",
    "\n",
    ">SPECIAL NOTES:\n",
    ">Pclass is a proxy for socio-economic status (SES)\n",
    "> 1st ~ Upper; 2nd ~ Middle; 3rd ~ Lower\n",
    "\n",
    ">Age is in Years; Fractional if Age less than One (1)\n",
    "> If the Age is Estimated, it is in the form xx.5\n",
    "\n",
    ">With respect to the family relation variables (i.e. sibsp and parch)\n",
    ">some relations were ignored.  The following are the definitions used\n",
    ">for sibsp and parch.\n",
    "\n",
    ">Sibling:  Brother, Sister, Stepbrother, or Stepsister of Passenger Aboard Titanic\n",
    ">Spouse:   Husband or Wife of Passenger Aboard Titanic (Mistresses and Fiances Ignored)\n",
    ">Parent:   Mother or Father of Passenger Aboard Titanic\n",
    ">Child:    Son, Daughter, Stepson, or Stepdaughter of Passenger Aboard Titanic\n",
    "\n",
    ">Other family relatives excluded from this study include cousins,\n",
    ">nephews/nieces, aunts/uncles, and in-laws.  Some children travelled\n",
    ">only with a nanny, therefore parch=0 for them.  As well, some\n",
    ">travelled with very close friends or neighbors in a village, however,\n",
    ">the definitions do not support such relations."
   ]
  },
  {
   "cell_type": "markdown",
   "metadata": {},
   "source": [
    "We can next review the data to check it's completeness:"
   ]
  },
  {
   "cell_type": "code",
   "execution_count": 71,
   "metadata": {
    "collapsed": false
   },
   "outputs": [
    {
     "data": {
      "text/plain": [
       "PassengerId    891\n",
       "Survived       891\n",
       "Pclass         891\n",
       "Name           891\n",
       "Sex            891\n",
       "Age            714\n",
       "SibSp          891\n",
       "Parch          891\n",
       "Ticket         891\n",
       "Fare           891\n",
       "Cabin          204\n",
       "Embarked       889\n",
       "dtype: int64"
      ]
     },
     "execution_count": 71,
     "metadata": {},
     "output_type": "execute_result"
    }
   ],
   "source": [
    "train_df.count()\n"
   ]
  },
  {
   "cell_type": "code",
   "execution_count": 72,
   "metadata": {
    "collapsed": false
   },
   "outputs": [
    {
     "data": {
      "text/plain": [
       "PassengerId    418\n",
       "Pclass         418\n",
       "Name           418\n",
       "Sex            418\n",
       "Age            332\n",
       "SibSp          418\n",
       "Parch          418\n",
       "Ticket         418\n",
       "Fare           417\n",
       "Cabin           91\n",
       "Embarked       418\n",
       "dtype: int64"
      ]
     },
     "execution_count": 72,
     "metadata": {},
     "output_type": "execute_result"
    }
   ],
   "source": [
    "test_df.count()"
   ]
  },
  {
   "cell_type": "markdown",
   "metadata": {},
   "source": [
    "We can see that the following fields have missing data:\n",
    "* Age\n",
    "* Fare\n",
    "* Cabin\n",
    "* Embarked\n",
    "\n",
    "The cabin and ticket variables don't appear to have useful data for predicting survival and can be dropped. The age, cabin and fare missing fields could be useful for survival.  Missing data for these fields can be estimated based on other availible data for other passengers in the same class.\n",
    "\n",
    "In addition, the Sex and Embarked fields will need to be converted to numerical values for analysis.  We can replace Sex as: Male = 0, Female = 1.  We can replace Embarked with 0= Cherbourg, 1= Queenstown and 2= Southhampton.\n",
    "\n",
    "The following function will clean the data:"
   ]
  },
  {
   "cell_type": "code",
   "execution_count": 73,
   "metadata": {
    "collapsed": false
   },
   "outputs": [],
   "source": [
    "def clean_data(passed_df):\n",
    "\t\n",
    "\t##Convert \"female\" and \"male\" to be 0 and 1\n",
    "\tpassed_df['Gender']=passed_df['Sex'].map({\"female\":0, \"male\":1}).astype(int)\n",
    "\n",
    "\t##convert empty embarkment to most common embarkment value\n",
    "\tif len(passed_df.Embarked[passed_df.Embarked.isnull() ] ) > 0:\n",
    "\t\tpassed_df.Embarked[passed_df.Embarked.isnull() ] = passed_df.Embarked.dropna().mode().values\n",
    "\n",
    "\t##Convert embarked data into number values with a dictionary\t\n",
    "\tPorts = list(enumerate(np.unique(passed_df['Embarked'])))\n",
    "\tPorts_dict = { name: i for i, name in Ports}\n",
    "\tpassed_df.Embarked = passed_df.Embarked.map( lambda x: Ports_dict[x]).astype(int)\n",
    "\n",
    "\t#replace missing ages with median age\n",
    "\tmedian_age=passed_df.Age.dropna().median()\n",
    "\tif len(passed_df.Age[passed_df.Age.isnull() ]) > 0:\n",
    "\t\tmedian_age=np.zeros(3)\n",
    "        ##calculate median age for each class\n",
    "\t\tfor f in range(0,3):\n",
    "\t\t\tmedian_age[f]=passed_df[(passed_df.Pclass == f+1)]['Age'].dropna().median()\n",
    "        ##Assign age based on passenger class    \n",
    "\t\tfor f in range(0,3):\n",
    "\t\t\tpassed_df.loc[((passed_df.Age.isnull()) & (passed_df.Pclass == f+1)), 'Age']=median_age[f]\n",
    "\t\t\t\n",
    "\n",
    "\t#replace missing fares with median fare for that class\n",
    "\tif len(passed_df.Fare[passed_df.Fare.isnull() ]) > 0:\n",
    "\t\tmedian_fare=np.zeros(3)\n",
    "\t\tfor f in range(0,3):\n",
    "\t\t\tmedian_fare[f]=passed_df[(passed_df.Pclass == f+1)]['Fare'].dropna().median()\n",
    "\t\tfor f in range(0,3):\n",
    "\t\t\tpassed_df.loc[((passed_df.Fare.isnull()) & (passed_df.Pclass == f+1)), 'Fare']=median_fare[f]\n",
    "\n",
    "\t#drop fields not used for machine learning\n",
    "\tpassed_df = passed_df.drop([\"Name\", \"Sex\", \"Ticket\", \"Cabin\", \"PassengerId\"], axis=1)\n",
    "\t\n",
    "\treturn passed_df\n"
   ]
  },
  {
   "cell_type": "markdown",
   "metadata": {},
   "source": [
    "Finally apply the data cleaning function to the training and test data: "
   ]
  },
  {
   "cell_type": "code",
   "execution_count": 74,
   "metadata": {
    "collapsed": false
   },
   "outputs": [],
   "source": [
    "train_df=clean_data(train_df)\n",
    "test_df=clean_data(test_df)"
   ]
  },
  {
   "cell_type": "markdown",
   "metadata": {},
   "source": [
    "# Perform Machine Learning:\n",
    "\n",
    "We then convert the cleaned data into values and perform training using a random forest classifier from scikit-learn:"
   ]
  },
  {
   "cell_type": "code",
   "execution_count": 75,
   "metadata": {
    "collapsed": true
   },
   "outputs": [],
   "source": [
    "#convert data to a list for the forest algorithm\n",
    "train_data = train_df.values\n",
    "test_data = test_df.values\n",
    "\n",
    "forest=RandomForestClassifier(n_estimators=10000)\n",
    "forest=forest.fit(train_data[0::,1::], train_data[0::,0])"
   ]
  },
  {
   "cell_type": "markdown",
   "metadata": {},
   "source": [
    "We then apply training to the test data set and ouput the results to a CSV file:"
   ]
  },
  {
   "cell_type": "code",
   "execution_count": 76,
   "metadata": {
    "collapsed": false
   },
   "outputs": [],
   "source": [
    "output=forest.predict(test_data).astype(int)\n",
    "\n",
    "predictions_file = open(\"titanicpredictions.csv\", 'wb')\n",
    "open_file_object = csv.writer(predictions_file)\n",
    "open_file_object.writerow([\"PassengerId\", \"Survived\"])\n",
    "open_file_object.writerows(zip(test_ids, output))\n",
    "predictions_file.close()"
   ]
  },
  {
   "cell_type": "markdown",
   "metadata": {},
   "source": [
    "The results are submitted to Kaggle and a prediction accuracy of 0.75598 found for the model!"
   ]
  },
  {
   "cell_type": "code",
   "execution_count": null,
   "metadata": {
    "collapsed": true
   },
   "outputs": [],
   "source": []
  }
 ],
 "metadata": {
  "kernelspec": {
   "display_name": "Python 2",
   "language": "python",
   "name": "python2"
  },
  "language_info": {
   "codemirror_mode": {
    "name": "ipython",
    "version": 2
   },
   "file_extension": ".py",
   "mimetype": "text/x-python",
   "name": "python",
   "nbconvert_exporter": "python",
   "pygments_lexer": "ipython2",
   "version": "2.7.11"
  }
 },
 "nbformat": 4,
 "nbformat_minor": 0
}
